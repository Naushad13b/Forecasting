{
 "cells": [
  {
   "cell_type": "code",
   "execution_count": 17,
   "id": "8afcde2f",
   "metadata": {},
   "outputs": [],
   "source": [
    "#https://github.com/datablogger-ml/Time-Series-Forecasting/blob/master/Time%20Series%20Forecasting.ipynb\n",
    "import pandas as pd\n",
    "import numpy as np\n",
    "import matplotlib.pyplot as plt\n",
    "from matplotlib import pylab \n",
    "from pylab import *\n",
    "pylab.rcParams['figure.figsize'] = (16, 6) # size for all figures\n",
    "from multiprocessing import cpu_count\n",
    "from joblib import Parallel\n",
    "from joblib import delayed\n",
    "from warnings import catch_warnings\n",
    "from warnings import filterwarnings"
   ]
  },
  {
   "cell_type": "code",
   "execution_count": 18,
   "id": "0373be2e",
   "metadata": {},
   "outputs": [
    {
     "data": {
      "text/html": [
       "<div>\n",
       "<style scoped>\n",
       "    .dataframe tbody tr th:only-of-type {\n",
       "        vertical-align: middle;\n",
       "    }\n",
       "\n",
       "    .dataframe tbody tr th {\n",
       "        vertical-align: top;\n",
       "    }\n",
       "\n",
       "    .dataframe thead th {\n",
       "        text-align: right;\n",
       "    }\n",
       "</style>\n",
       "<table border=\"1\" class=\"dataframe\">\n",
       "  <thead>\n",
       "    <tr style=\"text-align: right;\">\n",
       "      <th></th>\n",
       "      <th>Date</th>\n",
       "      <th>PM2.5</th>\n",
       "    </tr>\n",
       "  </thead>\n",
       "  <tbody>\n",
       "    <tr>\n",
       "      <th>0</th>\n",
       "      <td>2021-01-01</td>\n",
       "      <td>1.575013</td>\n",
       "    </tr>\n",
       "    <tr>\n",
       "      <th>1</th>\n",
       "      <td>2021-02-01</td>\n",
       "      <td>1.127264</td>\n",
       "    </tr>\n",
       "    <tr>\n",
       "      <th>2</th>\n",
       "      <td>2021-03-01</td>\n",
       "      <td>0.042478</td>\n",
       "    </tr>\n",
       "    <tr>\n",
       "      <th>3</th>\n",
       "      <td>2021-04-01</td>\n",
       "      <td>-0.261624</td>\n",
       "    </tr>\n",
       "    <tr>\n",
       "      <th>4</th>\n",
       "      <td>2021-05-01</td>\n",
       "      <td>0.116524</td>\n",
       "    </tr>\n",
       "  </tbody>\n",
       "</table>\n",
       "</div>"
      ],
      "text/plain": [
       "        Date     PM2.5\n",
       "0 2021-01-01  1.575013\n",
       "1 2021-02-01  1.127264\n",
       "2 2021-03-01  0.042478\n",
       "3 2021-04-01 -0.261624\n",
       "4 2021-05-01  0.116524"
      ]
     },
     "execution_count": 18,
     "metadata": {},
     "output_type": "execute_result"
    }
   ],
   "source": [
    "df = pd.read_csv(r'C:\\Users\\91783\\Desktop\\Results\\YJ_Mean_Date_PM2.csv')\n",
    "df.head()\n",
    "df['Date'] = pd.to_datetime(df['Date'])\n",
    "df.head()\n",
    "\n",
    "#y = pd.Series(data=df['PM2.5'].values, index=df['Date'])\n",
    "#y.head()"
   ]
  },
  {
   "cell_type": "code",
   "execution_count": 19,
   "id": "0283920a",
   "metadata": {},
   "outputs": [],
   "source": [
    "df = df.set_index('Date').asfreq('D')\n",
    "df.columns = ['PM2.5']"
   ]
  },
  {
   "cell_type": "code",
   "execution_count": 20,
   "id": "86530060",
   "metadata": {},
   "outputs": [
    {
     "name": "stdout",
     "output_type": "stream",
     "text": [
      "The Daily data consists of values from 2021-01-01 00:00:00 to 2021-12-31 00:00:00\n"
     ]
    }
   ],
   "source": [
    "print(f'The Daily data consists of values from {df.index.min()} to {df.index.max()}')"
   ]
  },
  {
   "cell_type": "code",
   "execution_count": 21,
   "id": "40ee0c4b",
   "metadata": {},
   "outputs": [],
   "source": [
    "#from pmdarima import auto_arima\n",
    "filterwarnings('ignore')"
   ]
  },
  {
   "cell_type": "code",
   "execution_count": 22,
   "id": "2c981b26",
   "metadata": {},
   "outputs": [
    {
     "name": "stdout",
     "output_type": "stream",
     "text": [
      "(363, 1)\n",
      "(2, 1)\n"
     ]
    }
   ],
   "source": [
    "n_test = 2\n",
    "train = df.iloc[:len(df) - n_test]\n",
    "test = df.iloc[len(df) - n_test:]\n",
    "print(train.shape)\n",
    "print(test.shape)\n"
   ]
  },
  {
   "cell_type": "code",
   "execution_count": 23,
   "id": "8e078a27",
   "metadata": {},
   "outputs": [
    {
     "name": "stdout",
     "output_type": "stream",
     "text": [
      "(363,)\n",
      "(2,)\n"
     ]
    }
   ],
   "source": [
    "train_array = train[\"PM2.5\"]\n",
    "print(train_array.shape)\n",
    "\n",
    "test_array = test[\"PM2.5\"]\n",
    "print(test_array.shape) "
   ]
  },
  {
   "cell_type": "code",
   "execution_count": 24,
   "id": "d02667d3",
   "metadata": {},
   "outputs": [
    {
     "name": "stdout",
     "output_type": "stream",
     "text": [
      "p-value: 0.4158387613177612\n"
     ]
    }
   ],
   "source": [
    "from statsmodels.tsa.stattools import adfuller\n",
    "\n",
    "print(\"p-value:\", adfuller(train_array.dropna())[1])"
   ]
  },
  {
   "cell_type": "code",
   "execution_count": 25,
   "id": "7637c539",
   "metadata": {},
   "outputs": [
    {
     "name": "stdout",
     "output_type": "stream",
     "text": [
      "p-value: 5.0015359837271354e-23\n"
     ]
    }
   ],
   "source": [
    "diff_1 = train_array.diff().dropna()\n",
    "print(\"p-value:\", adfuller(diff_1.dropna())[1])"
   ]
  },
  {
   "cell_type": "code",
   "execution_count": 26,
   "id": "1e082107",
   "metadata": {},
   "outputs": [],
   "source": [
    "import pmdarima as pmd\n",
    "\n",
    "def arimamodel(timeseriesarray):\n",
    "    autoarima_model = pmd.auto_arima(timeseriesarray, \n",
    "                              start_p=1, \n",
    "                              start_q=1,\n",
    "                              test=\"adf\",\n",
    "                              trace=True)\n",
    "    return autoarima_model\n"
   ]
  },
  {
   "cell_type": "code",
   "execution_count": 27,
   "id": "c5aafd55",
   "metadata": {},
   "outputs": [
    {
     "name": "stdout",
     "output_type": "stream",
     "text": [
      "Performing stepwise search to minimize aic\n",
      " ARIMA(1,1,1)(0,0,0)[0] intercept   : AIC=76.227, Time=0.09 sec\n",
      " ARIMA(0,1,0)(0,0,0)[0] intercept   : AIC=80.952, Time=0.04 sec\n",
      " ARIMA(1,1,0)(0,0,0)[0] intercept   : AIC=82.089, Time=0.03 sec\n",
      " ARIMA(0,1,1)(0,0,0)[0] intercept   : AIC=81.023, Time=0.05 sec\n",
      " ARIMA(0,1,0)(0,0,0)[0]             : AIC=79.002, Time=0.03 sec\n",
      " ARIMA(2,1,1)(0,0,0)[0] intercept   : AIC=46.261, Time=0.18 sec\n",
      " ARIMA(2,1,0)(0,0,0)[0] intercept   : AIC=52.951, Time=0.06 sec\n",
      " ARIMA(3,1,1)(0,0,0)[0] intercept   : AIC=44.320, Time=0.25 sec\n",
      " ARIMA(3,1,0)(0,0,0)[0] intercept   : AIC=53.603, Time=0.07 sec\n",
      " ARIMA(4,1,1)(0,0,0)[0] intercept   : AIC=45.255, Time=0.39 sec\n",
      " ARIMA(3,1,2)(0,0,0)[0] intercept   : AIC=45.893, Time=0.39 sec\n",
      " ARIMA(2,1,2)(0,0,0)[0] intercept   : AIC=44.662, Time=0.23 sec\n",
      " ARIMA(4,1,0)(0,0,0)[0] intercept   : AIC=53.861, Time=0.09 sec\n",
      " ARIMA(4,1,2)(0,0,0)[0] intercept   : AIC=47.823, Time=0.56 sec\n",
      " ARIMA(3,1,1)(0,0,0)[0]             : AIC=42.336, Time=0.11 sec\n",
      " ARIMA(2,1,1)(0,0,0)[0]             : AIC=44.272, Time=0.06 sec\n",
      " ARIMA(3,1,0)(0,0,0)[0]             : AIC=51.657, Time=0.04 sec\n",
      " ARIMA(4,1,1)(0,0,0)[0]             : AIC=43.268, Time=0.11 sec\n",
      " ARIMA(3,1,2)(0,0,0)[0]             : AIC=43.908, Time=0.19 sec\n",
      " ARIMA(2,1,0)(0,0,0)[0]             : AIC=51.010, Time=0.02 sec\n",
      " ARIMA(2,1,2)(0,0,0)[0]             : AIC=42.674, Time=0.08 sec\n",
      " ARIMA(4,1,0)(0,0,0)[0]             : AIC=51.906, Time=0.08 sec\n",
      " ARIMA(4,1,2)(0,0,0)[0]             : AIC=45.777, Time=0.29 sec\n",
      "\n",
      "Best model:  ARIMA(3,1,1)(0,0,0)[0]          \n",
      "Total fit time: 3.438 seconds\n"
     ]
    },
    {
     "data": {
      "text/html": [
       "<table class=\"simpletable\">\n",
       "<caption>SARIMAX Results</caption>\n",
       "<tr>\n",
       "  <th>Dep. Variable:</th>           <td>y</td>        <th>  No. Observations:  </th>   <td>363</td>  \n",
       "</tr>\n",
       "<tr>\n",
       "  <th>Model:</th>           <td>SARIMAX(3, 1, 1)</td> <th>  Log Likelihood     </th> <td>-16.168</td>\n",
       "</tr>\n",
       "<tr>\n",
       "  <th>Date:</th>            <td>Thu, 16 Jun 2022</td> <th>  AIC                </th> <td>42.336</td> \n",
       "</tr>\n",
       "<tr>\n",
       "  <th>Time:</th>                <td>12:03:45</td>     <th>  BIC                </th> <td>61.794</td> \n",
       "</tr>\n",
       "<tr>\n",
       "  <th>Sample:</th>                  <td>0</td>        <th>  HQIC               </th> <td>50.071</td> \n",
       "</tr>\n",
       "<tr>\n",
       "  <th></th>                      <td> - 363</td>      <th>                     </th>    <td> </td>   \n",
       "</tr>\n",
       "<tr>\n",
       "  <th>Covariance Type:</th>        <td>opg</td>       <th>                     </th>    <td> </td>   \n",
       "</tr>\n",
       "</table>\n",
       "<table class=\"simpletable\">\n",
       "<tr>\n",
       "     <td></td>       <th>coef</th>     <th>std err</th>      <th>z</th>      <th>P>|z|</th>  <th>[0.025</th>    <th>0.975]</th>  \n",
       "</tr>\n",
       "<tr>\n",
       "  <th>ar.L1</th>  <td>    0.8585</td> <td>    0.085</td> <td>   10.066</td> <td> 0.000</td> <td>    0.691</td> <td>    1.026</td>\n",
       "</tr>\n",
       "<tr>\n",
       "  <th>ar.L2</th>  <td>   -0.3349</td> <td>    0.061</td> <td>   -5.491</td> <td> 0.000</td> <td>   -0.454</td> <td>   -0.215</td>\n",
       "</tr>\n",
       "<tr>\n",
       "  <th>ar.L3</th>  <td>    0.1351</td> <td>    0.083</td> <td>    1.630</td> <td> 0.103</td> <td>   -0.027</td> <td>    0.298</td>\n",
       "</tr>\n",
       "<tr>\n",
       "  <th>ma.L1</th>  <td>   -0.8572</td> <td>    0.082</td> <td>  -10.508</td> <td> 0.000</td> <td>   -1.017</td> <td>   -0.697</td>\n",
       "</tr>\n",
       "<tr>\n",
       "  <th>sigma2</th> <td>    0.0639</td> <td>    0.003</td> <td>   18.522</td> <td> 0.000</td> <td>    0.057</td> <td>    0.071</td>\n",
       "</tr>\n",
       "</table>\n",
       "<table class=\"simpletable\">\n",
       "<tr>\n",
       "  <th>Ljung-Box (L1) (Q):</th>     <td>0.02</td> <th>  Jarque-Bera (JB):  </th> <td>200.14</td>\n",
       "</tr>\n",
       "<tr>\n",
       "  <th>Prob(Q):</th>                <td>0.88</td> <th>  Prob(JB):          </th>  <td>0.00</td> \n",
       "</tr>\n",
       "<tr>\n",
       "  <th>Heteroskedasticity (H):</th> <td>1.66</td> <th>  Skew:              </th>  <td>-0.58</td>\n",
       "</tr>\n",
       "<tr>\n",
       "  <th>Prob(H) (two-sided):</th>    <td>0.01</td> <th>  Kurtosis:          </th>  <td>6.46</td> \n",
       "</tr>\n",
       "</table><br/><br/>Warnings:<br/>[1] Covariance matrix calculated using the outer product of gradients (complex-step)."
      ],
      "text/plain": [
       "<class 'statsmodels.iolib.summary.Summary'>\n",
       "\"\"\"\n",
       "                               SARIMAX Results                                \n",
       "==============================================================================\n",
       "Dep. Variable:                      y   No. Observations:                  363\n",
       "Model:               SARIMAX(3, 1, 1)   Log Likelihood                 -16.168\n",
       "Date:                Thu, 16 Jun 2022   AIC                             42.336\n",
       "Time:                        12:03:45   BIC                             61.794\n",
       "Sample:                             0   HQIC                            50.071\n",
       "                                - 363                                         \n",
       "Covariance Type:                  opg                                         \n",
       "==============================================================================\n",
       "                 coef    std err          z      P>|z|      [0.025      0.975]\n",
       "------------------------------------------------------------------------------\n",
       "ar.L1          0.8585      0.085     10.066      0.000       0.691       1.026\n",
       "ar.L2         -0.3349      0.061     -5.491      0.000      -0.454      -0.215\n",
       "ar.L3          0.1351      0.083      1.630      0.103      -0.027       0.298\n",
       "ma.L1         -0.8572      0.082    -10.508      0.000      -1.017      -0.697\n",
       "sigma2         0.0639      0.003     18.522      0.000       0.057       0.071\n",
       "===================================================================================\n",
       "Ljung-Box (L1) (Q):                   0.02   Jarque-Bera (JB):               200.14\n",
       "Prob(Q):                              0.88   Prob(JB):                         0.00\n",
       "Heteroskedasticity (H):               1.66   Skew:                            -0.58\n",
       "Prob(H) (two-sided):                  0.01   Kurtosis:                         6.46\n",
       "===================================================================================\n",
       "\n",
       "Warnings:\n",
       "[1] Covariance matrix calculated using the outer product of gradients (complex-step).\n",
       "\"\"\""
      ]
     },
     "execution_count": 27,
     "metadata": {},
     "output_type": "execute_result"
    }
   ],
   "source": [
    "arima_model = arimamodel(train_array)\n",
    "arima_model.summary()"
   ]
  }
 ],
 "metadata": {
  "kernelspec": {
   "display_name": "Python 3 (ipykernel)",
   "language": "python",
   "name": "python3"
  },
  "language_info": {
   "codemirror_mode": {
    "name": "ipython",
    "version": 3
   },
   "file_extension": ".py",
   "mimetype": "text/x-python",
   "name": "python",
   "nbconvert_exporter": "python",
   "pygments_lexer": "ipython3",
   "version": "3.9.7"
  }
 },
 "nbformat": 4,
 "nbformat_minor": 5
}
