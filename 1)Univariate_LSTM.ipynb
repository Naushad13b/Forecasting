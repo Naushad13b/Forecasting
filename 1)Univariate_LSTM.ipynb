{
 "cells": [
  {
   "cell_type": "code",
   "execution_count": 72,
   "id": "677a4253",
   "metadata": {},
   "outputs": [],
   "source": [
    "\n",
    "import pandas as pd\n",
    "import numpy as np\n",
    "import matplotlib.pyplot as plt"
   ]
  },
  {
   "cell_type": "code",
   "execution_count": 73,
   "id": "27de022b",
   "metadata": {},
   "outputs": [
    {
     "data": {
      "text/html": [
       "<div>\n",
       "<style scoped>\n",
       "    .dataframe tbody tr th:only-of-type {\n",
       "        vertical-align: middle;\n",
       "    }\n",
       "\n",
       "    .dataframe tbody tr th {\n",
       "        vertical-align: top;\n",
       "    }\n",
       "\n",
       "    .dataframe thead th {\n",
       "        text-align: right;\n",
       "    }\n",
       "</style>\n",
       "<table border=\"1\" class=\"dataframe\">\n",
       "  <thead>\n",
       "    <tr style=\"text-align: right;\">\n",
       "      <th></th>\n",
       "      <th>PM2.5</th>\n",
       "    </tr>\n",
       "    <tr>\n",
       "      <th>Date</th>\n",
       "      <th></th>\n",
       "    </tr>\n",
       "  </thead>\n",
       "  <tbody>\n",
       "    <tr>\n",
       "      <th>2021-01-01</th>\n",
       "      <td>228.53</td>\n",
       "    </tr>\n",
       "    <tr>\n",
       "      <th>2021-01-02</th>\n",
       "      <td>222.37</td>\n",
       "    </tr>\n",
       "    <tr>\n",
       "      <th>2021-01-03</th>\n",
       "      <td>128.14</td>\n",
       "    </tr>\n",
       "    <tr>\n",
       "      <th>2021-01-04</th>\n",
       "      <td>68.44</td>\n",
       "    </tr>\n",
       "    <tr>\n",
       "      <th>2021-01-05</th>\n",
       "      <td>62.51</td>\n",
       "    </tr>\n",
       "  </tbody>\n",
       "</table>\n",
       "</div>"
      ],
      "text/plain": [
       "             PM2.5\n",
       "Date              \n",
       "2021-01-01  228.53\n",
       "2021-01-02  222.37\n",
       "2021-01-03  128.14\n",
       "2021-01-04   68.44\n",
       "2021-01-05   62.51"
      ]
     },
     "execution_count": 73,
     "metadata": {},
     "output_type": "execute_result"
    }
   ],
   "source": [
    "# Import data using datetime and set index to datetime\n",
    "df = pd.read_csv(r'C:\\Users\\91783\\Desktop\\TSA\\Bhiwadi1.csv',\n",
    "                                parse_dates=['Date'],\n",
    "                                index_col=['Date'])\n",
    "\n",
    "df.head()"
   ]
  },
  {
   "cell_type": "code",
   "execution_count": 74,
   "id": "ada67598",
   "metadata": {},
   "outputs": [],
   "source": [
    "#Mean - missed value first put None to NaN in dataset\n",
    "import numpy as np\n",
    "def change1(a):\n",
    "  df[a] = df[a].replace(np.NaN, df[a].mean())"
   ]
  },
  {
   "cell_type": "code",
   "execution_count": 75,
   "id": "a544466c",
   "metadata": {},
   "outputs": [],
   "source": [
    "#PM2.5\tPM10\tNO2\tSO2\tCO\tOzone\tTemp\tRH\tWS\tWD\tSR\n",
    "l=[\"PM2.5\"]\n",
    "for i in l:\n",
    "  change1(i)"
   ]
  },
  {
   "cell_type": "code",
   "execution_count": 76,
   "id": "3a5f6458",
   "metadata": {},
   "outputs": [
    {
     "data": {
      "text/html": [
       "<div>\n",
       "<style scoped>\n",
       "    .dataframe tbody tr th:only-of-type {\n",
       "        vertical-align: middle;\n",
       "    }\n",
       "\n",
       "    .dataframe tbody tr th {\n",
       "        vertical-align: top;\n",
       "    }\n",
       "\n",
       "    .dataframe thead th {\n",
       "        text-align: right;\n",
       "    }\n",
       "</style>\n",
       "<table border=\"1\" class=\"dataframe\">\n",
       "  <thead>\n",
       "    <tr style=\"text-align: right;\">\n",
       "      <th></th>\n",
       "      <th>PM2.5</th>\n",
       "    </tr>\n",
       "    <tr>\n",
       "      <th>Date</th>\n",
       "      <th></th>\n",
       "    </tr>\n",
       "  </thead>\n",
       "  <tbody>\n",
       "    <tr>\n",
       "      <th>2021-12-27</th>\n",
       "      <td>92.11</td>\n",
       "    </tr>\n",
       "    <tr>\n",
       "      <th>2021-12-28</th>\n",
       "      <td>124.25</td>\n",
       "    </tr>\n",
       "    <tr>\n",
       "      <th>2021-12-29</th>\n",
       "      <td>105.15</td>\n",
       "    </tr>\n",
       "    <tr>\n",
       "      <th>2021-12-30</th>\n",
       "      <td>161.22</td>\n",
       "    </tr>\n",
       "    <tr>\n",
       "      <th>2021-12-31</th>\n",
       "      <td>156.41</td>\n",
       "    </tr>\n",
       "  </tbody>\n",
       "</table>\n",
       "</div>"
      ],
      "text/plain": [
       "             PM2.5\n",
       "Date              \n",
       "2021-12-27   92.11\n",
       "2021-12-28  124.25\n",
       "2021-12-29  105.15\n",
       "2021-12-30  161.22\n",
       "2021-12-31  156.41"
      ]
     },
     "execution_count": 76,
     "metadata": {},
     "output_type": "execute_result"
    }
   ],
   "source": [
    "df.tail()"
   ]
  },
  {
   "cell_type": "code",
   "execution_count": 77,
   "id": "22ac3421",
   "metadata": {},
   "outputs": [
    {
     "name": "stdout",
     "output_type": "stream",
     "text": [
      "<class 'pandas.core.frame.DataFrame'>\n",
      "DatetimeIndex: 365 entries, 2021-01-01 to 2021-12-31\n",
      "Data columns (total 1 columns):\n",
      " #   Column  Non-Null Count  Dtype  \n",
      "---  ------  --------------  -----  \n",
      " 0   PM2.5   365 non-null    float64\n",
      "dtypes: float64(1)\n",
      "memory usage: 5.7 KB\n"
     ]
    }
   ],
   "source": [
    "df.info()"
   ]
  },
  {
   "cell_type": "code",
   "execution_count": 78,
   "id": "f702a66d",
   "metadata": {},
   "outputs": [
    {
     "data": {
      "text/plain": [
       "<AxesSubplot:>"
      ]
     },
     "execution_count": 78,
     "metadata": {},
     "output_type": "execute_result"
    },
    {
     "data": {
      "image/png": "[encoded data removed]",
      "text/plain": [
       "<Figure size 432x288 with 1 Axes>"
      ]
     },
     "metadata": {
      "needs_background": "light"
     },
     "output_type": "display_data"
    }
   ],
   "source": [
    "#Box plot\n",
    "#pd.options.display.mpl_style = False\n",
    "df.boxplot()"
   ]
  },
  {
   "cell_type": "code",
   "execution_count": 79,
   "id": "545723aa",
   "metadata": {},
   "outputs": [],
   "source": [
    "#Normalising data\n",
    "from sklearn.preprocessing import MinMaxScaler\n",
    "\n",
    "values = df.values\n",
    "scaler = MinMaxScaler(feature_range=(0, 1))\n",
    "scaled_dataset = scaler.fit_transform(values)"
   ]
  },
  {
   "cell_type": "code",
   "execution_count": 80,
   "id": "0461e4dd",
   "metadata": {},
   "outputs": [
    {
     "data": {
      "text/plain": [
       "array([[0.52260448],\n",
       "       [0.50712437]])"
      ]
     },
     "execution_count": 80,
     "metadata": {},
     "output_type": "execute_result"
    }
   ],
   "source": [
    "scaled_dataset[:2,:]"
   ]
  },
  {
   "cell_type": "code",
   "execution_count": 81,
   "id": "7ed5b0c7",
   "metadata": {},
   "outputs": [],
   "source": [
    "#Creating a window for previous data\n",
    "def to_supervised(train):\n",
    "  window_size = 4\n",
    "  X = []\n",
    "  Y = []\n",
    "  for i in range(window_size, len(train)):\n",
    "    X.append(train[i-window_size:i,:])\n",
    "    Y.append(train[i,0:1])\n",
    "    \n",
    "  return X,Y"
   ]
  },
  {
   "cell_type": "code",
   "execution_count": 82,
   "id": "e5e5dd8d",
   "metadata": {},
   "outputs": [
    {
     "name": "stdout",
     "output_type": "stream",
     "text": [
      "Y (361, 1)\n",
      "X (361, 4, 1)\n"
     ]
    }
   ],
   "source": [
    "X, Y = to_supervised(scaled_dataset)\n",
    "X = np.array(X)\n",
    "Y = np.array(Y)\n",
    "print('Y' ,Y.shape)\n",
    "print('X' ,X.shape)"
   ]
  },
  {
   "cell_type": "code",
   "execution_count": 83,
   "id": "cfab65e5",
   "metadata": {},
   "outputs": [
    {
     "name": "stdout",
     "output_type": "stream",
     "text": [
      "X_train (271, 4, 1)\n",
      "X_test (90, 4, 1)\n",
      "Y_train (271, 1)\n",
      "Y_test (90, 1)\n"
     ]
    }
   ],
   "source": [
    "#Splitting the dataset\n",
    "n_train = 3*30\n",
    "X_train, X_test = X[n_train:,] , X[:n_train,]\n",
    "print('X_train' ,X_train.shape)\n",
    "print('X_test' ,X_test.shape)\n",
    "\n",
    "Y_train, Y_test = Y[n_train:,] , Y[:n_train,]\n",
    "print('Y_train' ,Y_train.shape)\n",
    "print('Y_test' ,Y_test.shape)"
   ]
  },
  {
   "cell_type": "code",
   "execution_count": 84,
   "id": "682f0423",
   "metadata": {},
   "outputs": [],
   "source": [
    "#Importing LSTM model\n",
    "from keras.models import Sequential\n",
    "from keras.layers import Dense, Dropout,LSTM\n",
    "model = Sequential()\n",
    "\n",
    "model.add(LSTM(units = 50, return_sequences = True, input_shape=(X_train.shape[1], X_train.shape[2])))\n",
    "model.add(Dropout(0.2))\n",
    "\n",
    "model.add(LSTM(units = 50, return_sequences = True))\n",
    "model.add(Dropout(0.2))\n",
    "\n",
    "model.add(LSTM(units = 50))\n",
    "model.add(Dropout(0.2))\n",
    "\n",
    "model.add(Dense(units = 1))\n",
    "\n",
    "model.compile(optimizer = 'adam', loss = 'mean_squared_error')   "
   ]
  },
  {
   "cell_type": "code",
   "execution_count": 85,
   "id": "d2c1e9d0",
   "metadata": {},
   "outputs": [
    {
     "name": "stdout",
     "output_type": "stream",
     "text": [
      "Epoch 1/50\n",
      "34/34 - 7s - loss: 0.0323 - val_loss: 0.0094 - 7s/epoch - 195ms/step\n",
      "Epoch 2/50\n",
      "34/34 - 0s - loss: 0.0303 - val_loss: 0.0215 - 170ms/epoch - 5ms/step\n",
      "Epoch 3/50\n",
      "34/34 - 0s - loss: 0.0234 - val_loss: 0.0110 - 161ms/epoch - 5ms/step\n",
      "Epoch 4/50\n",
      "34/34 - 0s - loss: 0.0191 - val_loss: 0.0099 - 176ms/epoch - 5ms/step\n",
      "Epoch 5/50\n",
      "34/34 - 0s - loss: 0.0158 - val_loss: 0.0104 - 162ms/epoch - 5ms/step\n",
      "Epoch 6/50\n",
      "34/34 - 0s - loss: 0.0146 - val_loss: 0.0101 - 149ms/epoch - 4ms/step\n",
      "Epoch 7/50\n",
      "34/34 - 0s - loss: 0.0152 - val_loss: 0.0099 - 167ms/epoch - 5ms/step\n",
      "Epoch 8/50\n",
      "34/34 - 0s - loss: 0.0156 - val_loss: 0.0098 - 168ms/epoch - 5ms/step\n",
      "Epoch 9/50\n",
      "34/34 - 0s - loss: 0.0150 - val_loss: 0.0098 - 165ms/epoch - 5ms/step\n",
      "Epoch 10/50\n",
      "34/34 - 0s - loss: 0.0156 - val_loss: 0.0098 - 160ms/epoch - 5ms/step\n",
      "Epoch 11/50\n",
      "34/34 - 0s - loss: 0.0151 - val_loss: 0.0098 - 163ms/epoch - 5ms/step\n",
      "Epoch 12/50\n",
      "34/34 - 0s - loss: 0.0141 - val_loss: 0.0098 - 173ms/epoch - 5ms/step\n",
      "Epoch 13/50\n",
      "34/34 - 0s - loss: 0.0143 - val_loss: 0.0097 - 162ms/epoch - 5ms/step\n",
      "Epoch 14/50\n",
      "34/34 - 0s - loss: 0.0139 - val_loss: 0.0096 - 153ms/epoch - 5ms/step\n",
      "Epoch 15/50\n",
      "34/34 - 0s - loss: 0.0146 - val_loss: 0.0094 - 184ms/epoch - 5ms/step\n",
      "Epoch 16/50\n",
      "34/34 - 0s - loss: 0.0139 - val_loss: 0.0094 - 160ms/epoch - 5ms/step\n",
      "Epoch 17/50\n",
      "34/34 - 0s - loss: 0.0128 - val_loss: 0.0094 - 171ms/epoch - 5ms/step\n",
      "Epoch 18/50\n",
      "34/34 - 0s - loss: 0.0131 - val_loss: 0.0093 - 168ms/epoch - 5ms/step\n",
      "Epoch 19/50\n",
      "34/34 - 0s - loss: 0.0130 - val_loss: 0.0093 - 158ms/epoch - 5ms/step\n",
      "Epoch 20/50\n",
      "34/34 - 0s - loss: 0.0132 - val_loss: 0.0092 - 170ms/epoch - 5ms/step\n",
      "Epoch 21/50\n",
      "34/34 - 0s - loss: 0.0131 - val_loss: 0.0093 - 162ms/epoch - 5ms/step\n",
      "Epoch 22/50\n",
      "34/34 - 0s - loss: 0.0126 - val_loss: 0.0089 - 153ms/epoch - 5ms/step\n",
      "Epoch 23/50\n",
      "34/34 - 0s - loss: 0.0128 - val_loss: 0.0091 - 152ms/epoch - 4ms/step\n",
      "Epoch 24/50\n",
      "34/34 - 0s - loss: 0.0125 - val_loss: 0.0088 - 169ms/epoch - 5ms/step\n",
      "Epoch 25/50\n",
      "34/34 - 0s - loss: 0.0127 - val_loss: 0.0088 - 167ms/epoch - 5ms/step\n",
      "Epoch 26/50\n",
      "34/34 - 0s - loss: 0.0123 - val_loss: 0.0087 - 168ms/epoch - 5ms/step\n",
      "Epoch 27/50\n",
      "34/34 - 0s - loss: 0.0122 - val_loss: 0.0085 - 164ms/epoch - 5ms/step\n",
      "Epoch 28/50\n",
      "34/34 - 0s - loss: 0.0112 - val_loss: 0.0087 - 159ms/epoch - 5ms/step\n",
      "Epoch 29/50\n",
      "34/34 - 0s - loss: 0.0115 - val_loss: 0.0086 - 163ms/epoch - 5ms/step\n",
      "Epoch 30/50\n",
      "34/34 - 0s - loss: 0.0121 - val_loss: 0.0081 - 166ms/epoch - 5ms/step\n",
      "Epoch 31/50\n",
      "34/34 - 0s - loss: 0.0113 - val_loss: 0.0083 - 161ms/epoch - 5ms/step\n",
      "Epoch 32/50\n",
      "34/34 - 0s - loss: 0.0116 - val_loss: 0.0085 - 149ms/epoch - 4ms/step\n",
      "Epoch 33/50\n",
      "34/34 - 0s - loss: 0.0114 - val_loss: 0.0079 - 184ms/epoch - 5ms/step\n",
      "Epoch 34/50\n",
      "34/34 - 0s - loss: 0.0111 - val_loss: 0.0079 - 173ms/epoch - 5ms/step\n",
      "Epoch 35/50\n",
      "34/34 - 0s - loss: 0.0113 - val_loss: 0.0082 - 152ms/epoch - 4ms/step\n",
      "Epoch 36/50\n",
      "34/34 - 0s - loss: 0.0108 - val_loss: 0.0078 - 168ms/epoch - 5ms/step\n",
      "Epoch 37/50\n",
      "34/34 - 0s - loss: 0.0118 - val_loss: 0.0075 - 164ms/epoch - 5ms/step\n",
      "Epoch 38/50\n",
      "34/34 - 0s - loss: 0.0111 - val_loss: 0.0076 - 158ms/epoch - 5ms/step\n",
      "Epoch 39/50\n",
      "34/34 - 0s - loss: 0.0103 - val_loss: 0.0076 - 158ms/epoch - 5ms/step\n",
      "Epoch 40/50\n",
      "34/34 - 0s - loss: 0.0106 - val_loss: 0.0076 - 163ms/epoch - 5ms/step\n",
      "Epoch 41/50\n",
      "34/34 - 0s - loss: 0.0107 - val_loss: 0.0073 - 152ms/epoch - 4ms/step\n",
      "Epoch 42/50\n",
      "34/34 - 0s - loss: 0.0107 - val_loss: 0.0073 - 165ms/epoch - 5ms/step\n",
      "Epoch 43/50\n",
      "34/34 - 0s - loss: 0.0100 - val_loss: 0.0076 - 173ms/epoch - 5ms/step\n",
      "Epoch 44/50\n",
      "34/34 - 0s - loss: 0.0100 - val_loss: 0.0072 - 168ms/epoch - 5ms/step\n",
      "Epoch 45/50\n",
      "34/34 - 0s - loss: 0.0102 - val_loss: 0.0076 - 143ms/epoch - 4ms/step\n",
      "Epoch 46/50\n",
      "34/34 - 0s - loss: 0.0108 - val_loss: 0.0074 - 166ms/epoch - 5ms/step\n",
      "Epoch 47/50\n",
      "34/34 - 0s - loss: 0.0101 - val_loss: 0.0072 - 151ms/epoch - 4ms/step\n",
      "Epoch 48/50\n",
      "34/34 - 0s - loss: 0.0100 - val_loss: 0.0072 - 150ms/epoch - 4ms/step\n",
      "Epoch 49/50\n",
      "34/34 - 0s - loss: 0.0106 - val_loss: 0.0073 - 170ms/epoch - 5ms/step\n",
      "Epoch 50/50\n",
      "34/34 - 0s - loss: 0.0099 - val_loss: 0.0073 - 172ms/epoch - 5ms/step\n"
     ]
    }
   ],
   "source": [
    "history = model.fit(X_train, Y_train, epochs=50,\n",
    "                    batch_size=8, validation_data=(X_test, Y_test),\n",
    "                    verbose=2, shuffle=False)"
   ]
  },
  {
   "cell_type": "code",
   "execution_count": 86,
   "id": "a4009bce",
   "metadata": {},
   "outputs": [
    {
     "name": "stdout",
     "output_type": "stream",
     "text": [
      "3/3 [==============================] - 1s 3ms/step\n",
      "0.007328875456586217\n",
      "0.08560885150839379\n"
     ]
    }
   ],
   "source": [
    "#Taking predictions\n",
    "Y_pred = model.predict(X_test)\n",
    "\n",
    "from sklearn.metrics import mean_squared_error\n",
    "mse = mean_squared_error(Y_test, Y_pred)\n",
    "\n",
    "print(mse)\n",
    "rmse = np.sqrt(mse)\n",
    "print(rmse)"
   ]
  },
  {
   "cell_type": "code",
   "execution_count": 87,
   "id": "c8cbd2b9",
   "metadata": {},
   "outputs": [
    {
     "name": "stdout",
     "output_type": "stream",
     "text": [
      "MAPE 28.057800480907797\n"
     ]
    }
   ],
   "source": [
    "def mean_absolute_percentage_error(y_true, y_pred): \n",
    "    y_true, y_pred = np.array(y_true), np.array(y_pred)\n",
    "    return np.mean(np.abs((y_true - y_pred) / y_true)) * 100\n",
    "\n",
    "mape = mean_absolute_percentage_error(Y_test, Y_pred)\n",
    "print('MAPE', mape)"
   ]
  },
  {
   "cell_type": "code",
   "execution_count": 88,
   "id": "e258d8f1",
   "metadata": {},
   "outputs": [
    {
     "name": "stdout",
     "output_type": "stream",
     "text": [
      "MAPE 22.83167166565342\n"
     ]
    }
   ],
   "source": [
    "def mean_absolute_percentage_error(y_true, y_pred): \n",
    "    y_true, y_pred = np.array(y_true), np.array(y_pred)\n",
    "    return np.mean(np.abs((y_true - y_pred) / y_true)) * 100\n",
    "\n",
    "mape = mean_absolute_percentage_error(Y_tested, Y_predicted)\n",
    "print('MAPE', mape)"
   ]
  },
  {
   "cell_type": "code",
   "execution_count": 89,
   "id": "7ccfd78c",
   "metadata": {},
   "outputs": [
    {
     "name": "stdout",
     "output_type": "stream",
     "text": [
      "y_predicted (90, 1)\n",
      "X_test (90, 4, 1)\n",
      "scaled Values shape (365, 1)\n"
     ]
    }
   ],
   "source": [
    "#Y_predicted = scaler.inverse_transform(Y_pred)\n",
    "print('y_predicted',Y_pred.shape)\n",
    "#print('X_train' ,X_train.shape)\n",
    "print('X_test' ,X_test.shape)\n",
    "print('scaled Values shape', scaled_dataset.shape)"
   ]
  },
  {
   "cell_type": "code",
   "execution_count": 90,
   "id": "166f93b5",
   "metadata": {},
   "outputs": [
    {
     "name": "stdout",
     "output_type": "stream",
     "text": [
      "dummy (271, 1)\n",
      "Y_pred (90, 1)\n",
      "concat y_pred (90, 1)\n",
      "concat Y_test (90, 1)\n"
     ]
    }
   ],
   "source": [
    "#Scaling back to the original scale\n",
    "d = scaled_dataset[:271,:]\n",
    "print('dummy',d.shape)\n",
    "print('Y_pred',Y_pred.shape)\n",
    "Y_predicted = np.concatenate((Y_pred,d[:90,1:]), axis =1)\n",
    "print('concat y_pred',Y_pred.shape)\n",
    "Y_tested = np.concatenate((Y_test, d[:90,1:]), axis = 1)\n",
    "print('concat Y_test', Y_test.shape)"
   ]
  },
  {
   "cell_type": "code",
   "execution_count": 91,
   "id": "95f92f43",
   "metadata": {},
   "outputs": [
    {
     "name": "stdout",
     "output_type": "stream",
     "text": [
      "Y_tested (90, 1)\n",
      "Y_predicted (90, 1)\n"
     ]
    }
   ],
   "source": [
    "#Take inverse transform\n",
    "Y_predicted = scaler.inverse_transform(Y_predicted)\n",
    "Y_tested = scaler.inverse_transform(Y_tested)\n",
    "Y_predicted = Y_predicted[:,0:1]\n",
    "Y_tested = Y_tested[:,0:1]\n",
    "print('Y_tested', Y_tested.shape)\n",
    "print('Y_predicted', Y_predicted.shape)"
   ]
  },
  {
   "cell_type": "code",
   "execution_count": 92,
   "id": "0e88b467",
   "metadata": {},
   "outputs": [
    {
     "name": "stdout",
     "output_type": "stream",
     "text": [
      "1160.5148587961316\n",
      "34.06633028073514\n"
     ]
    }
   ],
   "source": [
    "#Calculate error\n",
    "from sklearn.metrics import mean_squared_error\n",
    "mse = mean_squared_error(Y_tested, Y_predicted)\n",
    "print(mse)\n",
    "rmse = np.sqrt(mse)\n",
    "print(rmse)"
   ]
  },
  {
   "cell_type": "code",
   "execution_count": null,
   "id": "2a926019",
   "metadata": {},
   "outputs": [],
   "source": []
  },
  {
   "cell_type": "code",
   "execution_count": 93,
   "id": "68df149a",
   "metadata": {},
   "outputs": [
    {
     "data": {
      "image/png": "[encoded data removed]",
      "text/plain": [
       "<Figure size 432x288 with 1 Axes>"
      ]
     },
     "metadata": {
      "needs_background": "light"
     },
     "output_type": "display_data"
    }
   ],
   "source": [
    "#Plot the graph between actual vs predicted values\n",
    "plt.plot(Y_predicted[:100,:], color= 'green')\n",
    "plt.plot(Y_tested[:100,:] , color = 'red')\n",
    "plt.title(\"Air Pollution Prediction (Multivariate)\")\n",
    "plt.xlabel(\"Date\")\n",
    "plt.ylabel(\"Pollution level\")\n",
    "plt.show()\n",
    " "
   ]
  },
  {
   "cell_type": "code",
   "execution_count": 94,
   "id": "44b607ab",
   "metadata": {},
   "outputs": [
    {
     "name": "stdout",
     "output_type": "stream",
     "text": [
      "MAPE 22.699910255264534\n"
     ]
    }
   ],
   "source": [
    "def mean_absolute_percentage_error(y_true, y_pred): \n",
    "    y_true, y_pred = np.array(y_true), np.array(y_pred)\n",
    "    return np.mean(np.abs((y_true - y_pred) / y_true)) * 100\n",
    "\n",
    "mape = mean_absolute_percentage_error(Y_tested, Y_predicted)\n",
    "print('MAPE', mape)"
   ]
  },
  {
   "cell_type": "code",
   "execution_count": 95,
   "id": "d0042f1a",
   "metadata": {},
   "outputs": [
    {
     "name": "stdout",
     "output_type": "stream",
     "text": [
      "RMSE 34.06633028073514\n",
      "Mean of Test data  137.53366666666668\n"
     ]
    }
   ],
   "source": [
    "from sklearn.metrics import mean_squared_error\n",
    "mse = mean_squared_error(Y_tested, Y_predicted)\n",
    "#print('Mean squared error', mse)\n",
    "print('RMSE' , np.sqrt(mse))\n",
    "print(\"Mean of Test data \", np.mean(Y_tested))"
   ]
  },
  {
   "cell_type": "code",
   "execution_count": 96,
   "id": "777e116d",
   "metadata": {},
   "outputs": [
    {
     "data": {
      "text/plain": [
       "array([<AxesSubplot:xlabel='Date'>], dtype=object)"
      ]
     },
     "execution_count": 96,
     "metadata": {},
     "output_type": "execute_result"
    },
    {
     "data": {
      "image/png": "[encoded data removed]",
      "text/plain": [
       "<Figure size 432x288 with 1 Axes>"
      ]
     },
     "metadata": {
      "needs_background": "light"
     },
     "output_type": "display_data"
    }
   ],
   "source": [
    "# A simple plot to visualize the correlation between the columns\n",
    "df.plot(subplots=True)\n",
    "#df.plot(subplots=True,figsize=(15,13));"
   ]
  },
  {
   "cell_type": "code",
   "execution_count": 97,
   "id": "7fa75e0c",
   "metadata": {},
   "outputs": [
    {
     "data": {
      "image/png": "[encoded data removed]",
      "text/plain": [
       "<Figure size 432x288 with 1 Axes>"
      ]
     },
     "metadata": {
      "needs_background": "light"
     },
     "output_type": "display_data"
    }
   ],
   "source": [
    "# plot history\n",
    "plt.plot(history.history['loss'], label='train')\n",
    "plt.plot(history.history['val_loss'], label='test')\n",
    "plt.legend()\n",
    "plt.show()\n",
    " "
   ]
  },
  {
   "cell_type": "code",
   "execution_count": null,
   "id": "33fb6507",
   "metadata": {},
   "outputs": [],
   "source": []
  },
  {
   "cell_type": "code",
   "execution_count": null,
   "id": "5cd8700b",
   "metadata": {},
   "outputs": [],
   "source": []
  }
 ],
 "metadata": {
  "kernelspec": {
   "display_name": "Python 3 (ipykernel)",
   "language": "python",
   "name": "python3"
  },
  "language_info": {
   "codemirror_mode": {
    "name": "ipython",
    "version": 3
   },
   "file_extension": ".py",
   "mimetype": "text/x-python",
   "name": "python",
   "nbconvert_exporter": "python",
   "pygments_lexer": "ipython3",
   "version": "3.9.7"
  }
 },
 "nbformat": 4,
 "nbformat_minor": 5
}
