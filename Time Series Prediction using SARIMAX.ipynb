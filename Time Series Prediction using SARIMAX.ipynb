{
 "cells": [
  {
   "cell_type": "code",
   "execution_count": 77,
   "id": "0c158de5",
   "metadata": {},
   "outputs": [],
   "source": [
    "import pandas as pd\n",
    "import numpy as np\n",
    "import matplotlib.pyplot as plt\n",
    "import seaborn as sns\n",
    "from pandas.plotting import register_matplotlib_converters\n",
    "register_matplotlib_converters()\n",
    "%matplotlib inline"
   ]
  },
  {
   "cell_type": "code",
   "execution_count": 78,
   "id": "ccf1f0c3",
   "metadata": {},
   "outputs": [],
   "source": [
    "#https://medium.datadriveninvestor.com/time-series-prediction-using-sarimax-a6604f258c56\n",
    "#https://finance.yahoo.com/quote/AAPL/history?period1=1222837200&period2=1569906000&interval=1d&filter=history&frequency=1d\n",
    "#https://finance.yahoo.com/quote/AAPL/history/?guccounter=1&guce_referrer=aHR0cHM6Ly93d3cuZ29vZ2xlLmNvbS8&guce_referrer_sig=AQAAACzup2zx_CD-w_bppEbO46ENw5kvClFQR486XpiaHw0IfnUOo_Eu-FaKzGTbemdXCtCJfzvcv5N6_Op33sfNKWDm5WAs4LBl1usqyCvrRqzu7sdnVm09f1cufDB4RfS8qqXaAkybnbcQaWyBvzoDzzaEBVIKVYQrh0X_FmnqjdBd\n",
    "dataset= pd.read_csv(r'C:\\Users\\91783\\Downloads\\aapl.csv')"
   ]
  },
  {
   "cell_type": "code",
   "execution_count": 79,
   "id": "bb893196",
   "metadata": {},
   "outputs": [
    {
     "data": {
      "text/html": [
       "<div>\n",
       "<style scoped>\n",
       "    .dataframe tbody tr th:only-of-type {\n",
       "        vertical-align: middle;\n",
       "    }\n",
       "\n",
       "    .dataframe tbody tr th {\n",
       "        vertical-align: top;\n",
       "    }\n",
       "\n",
       "    .dataframe thead th {\n",
       "        text-align: right;\n",
       "    }\n",
       "</style>\n",
       "<table border=\"1\" class=\"dataframe\">\n",
       "  <thead>\n",
       "    <tr style=\"text-align: right;\">\n",
       "      <th></th>\n",
       "      <th>Date</th>\n",
       "      <th>Open</th>\n",
       "      <th>High</th>\n",
       "      <th>Low</th>\n",
       "      <th>Close</th>\n",
       "      <th>Adj Close</th>\n",
       "      <th>Volume</th>\n",
       "    </tr>\n",
       "  </thead>\n",
       "  <tbody>\n",
       "    <tr>\n",
       "      <th>0</th>\n",
       "      <td>10-1-08</td>\n",
       "      <td>3.997143</td>\n",
       "      <td>4.012857</td>\n",
       "      <td>3.835357</td>\n",
       "      <td>3.897143</td>\n",
       "      <td>3.327504</td>\n",
       "      <td>1296484000</td>\n",
       "    </tr>\n",
       "    <tr>\n",
       "      <th>1</th>\n",
       "      <td>10-2-08</td>\n",
       "      <td>3.857500</td>\n",
       "      <td>3.885357</td>\n",
       "      <td>3.571429</td>\n",
       "      <td>3.575000</td>\n",
       "      <td>3.052449</td>\n",
       "      <td>1609364400</td>\n",
       "    </tr>\n",
       "  </tbody>\n",
       "</table>\n",
       "</div>"
      ],
      "text/plain": [
       "      Date      Open      High       Low     Close  Adj Close      Volume\n",
       "0  10-1-08  3.997143  4.012857  3.835357  3.897143   3.327504  1296484000\n",
       "1  10-2-08  3.857500  3.885357  3.571429  3.575000   3.052449  1609364400"
      ]
     },
     "execution_count": 79,
     "metadata": {},
     "output_type": "execute_result"
    }
   ],
   "source": [
    "dataset.head(2)"
   ]
  },
  {
   "cell_type": "code",
   "execution_count": 37,
   "id": "c1f5e743",
   "metadata": {},
   "outputs": [
    {
     "data": {
      "text/html": [
       "<div>\n",
       "<style scoped>\n",
       "    .dataframe tbody tr th:only-of-type {\n",
       "        vertical-align: middle;\n",
       "    }\n",
       "\n",
       "    .dataframe tbody tr th {\n",
       "        vertical-align: top;\n",
       "    }\n",
       "\n",
       "    .dataframe thead th {\n",
       "        text-align: right;\n",
       "    }\n",
       "</style>\n",
       "<table border=\"1\" class=\"dataframe\">\n",
       "  <thead>\n",
       "    <tr style=\"text-align: right;\">\n",
       "      <th></th>\n",
       "      <th>Date</th>\n",
       "      <th>Open</th>\n",
       "      <th>High</th>\n",
       "      <th>Low</th>\n",
       "      <th>Close</th>\n",
       "      <th>Adj Close</th>\n",
       "      <th>Volume</th>\n",
       "      <th>Mean</th>\n",
       "    </tr>\n",
       "  </thead>\n",
       "  <tbody>\n",
       "    <tr>\n",
       "      <th>0</th>\n",
       "      <td>10-1-08</td>\n",
       "      <td>3.997143</td>\n",
       "      <td>4.012857</td>\n",
       "      <td>3.835357</td>\n",
       "      <td>3.897143</td>\n",
       "      <td>3.327504</td>\n",
       "      <td>1296484000</td>\n",
       "      <td>3.924107</td>\n",
       "    </tr>\n",
       "    <tr>\n",
       "      <th>1</th>\n",
       "      <td>10-2-08</td>\n",
       "      <td>3.857500</td>\n",
       "      <td>3.885357</td>\n",
       "      <td>3.571429</td>\n",
       "      <td>3.575000</td>\n",
       "      <td>3.052449</td>\n",
       "      <td>1609364400</td>\n",
       "      <td>3.728393</td>\n",
       "    </tr>\n",
       "  </tbody>\n",
       "</table>\n",
       "</div>"
      ],
      "text/plain": [
       "      Date      Open      High       Low     Close  Adj Close      Volume  \\\n",
       "0  10-1-08  3.997143  4.012857  3.835357  3.897143   3.327504  1296484000   \n",
       "1  10-2-08  3.857500  3.885357  3.571429  3.575000   3.052449  1609364400   \n",
       "\n",
       "       Mean  \n",
       "0  3.924107  \n",
       "1  3.728393  "
      ]
     },
     "execution_count": 37,
     "metadata": {},
     "output_type": "execute_result"
    }
   ],
   "source": [
    "dataset['Mean'] = (dataset['Low'] + dataset['High'])/2\n",
    "dataset.head(2)"
   ]
  },
  {
   "cell_type": "code",
   "execution_count": 38,
   "id": "9564c0f7",
   "metadata": {},
   "outputs": [
    {
     "name": "stdout",
     "output_type": "stream",
     "text": [
      "<class 'pandas.core.frame.DataFrame'>\n",
      "RangeIndex: 2767 entries, 0 to 2766\n",
      "Data columns (total 8 columns):\n",
      " #   Column     Non-Null Count  Dtype  \n",
      "---  ------     --------------  -----  \n",
      " 0   Date       2767 non-null   object \n",
      " 1   Open       2767 non-null   float64\n",
      " 2   High       2767 non-null   float64\n",
      " 3   Low        2767 non-null   float64\n",
      " 4   Close      2767 non-null   float64\n",
      " 5   Adj Close  2767 non-null   float64\n",
      " 6   Volume     2767 non-null   int64  \n",
      " 7   Mean       2767 non-null   float64\n",
      "dtypes: float64(6), int64(1), object(1)\n",
      "memory usage: 173.1+ KB\n"
     ]
    }
   ],
   "source": [
    "dataset.info()"
   ]
  },
  {
   "cell_type": "code",
   "execution_count": 39,
   "id": "a797c14c",
   "metadata": {},
   "outputs": [
    {
     "data": {
      "text/html": [
       "<div>\n",
       "<style scoped>\n",
       "    .dataframe tbody tr th:only-of-type {\n",
       "        vertical-align: middle;\n",
       "    }\n",
       "\n",
       "    .dataframe tbody tr th {\n",
       "        vertical-align: top;\n",
       "    }\n",
       "\n",
       "    .dataframe thead th {\n",
       "        text-align: right;\n",
       "    }\n",
       "</style>\n",
       "<table border=\"1\" class=\"dataframe\">\n",
       "  <thead>\n",
       "    <tr style=\"text-align: right;\">\n",
       "      <th></th>\n",
       "      <th>Date</th>\n",
       "      <th>Open</th>\n",
       "      <th>High</th>\n",
       "      <th>Low</th>\n",
       "      <th>Close</th>\n",
       "      <th>Adj Close</th>\n",
       "      <th>Volume</th>\n",
       "      <th>Mean</th>\n",
       "      <th>Actual</th>\n",
       "    </tr>\n",
       "  </thead>\n",
       "  <tbody>\n",
       "    <tr>\n",
       "      <th>0</th>\n",
       "      <td>10-1-08</td>\n",
       "      <td>3.997143</td>\n",
       "      <td>4.012857</td>\n",
       "      <td>3.835357</td>\n",
       "      <td>3.897143</td>\n",
       "      <td>3.327504</td>\n",
       "      <td>1296484000</td>\n",
       "      <td>3.924107</td>\n",
       "      <td>3.728393</td>\n",
       "    </tr>\n",
       "    <tr>\n",
       "      <th>1</th>\n",
       "      <td>10-2-08</td>\n",
       "      <td>3.857500</td>\n",
       "      <td>3.885357</td>\n",
       "      <td>3.571429</td>\n",
       "      <td>3.575000</td>\n",
       "      <td>3.052449</td>\n",
       "      <td>1609364400</td>\n",
       "      <td>3.728393</td>\n",
       "      <td>3.591964</td>\n",
       "    </tr>\n",
       "    <tr>\n",
       "      <th>2</th>\n",
       "      <td>10-3-08</td>\n",
       "      <td>3.714286</td>\n",
       "      <td>3.803571</td>\n",
       "      <td>3.380357</td>\n",
       "      <td>3.466786</td>\n",
       "      <td>2.960052</td>\n",
       "      <td>2294398400</td>\n",
       "      <td>3.591964</td>\n",
       "      <td>3.327143</td>\n",
       "    </tr>\n",
       "  </tbody>\n",
       "</table>\n",
       "</div>"
      ],
      "text/plain": [
       "      Date      Open      High       Low     Close  Adj Close      Volume  \\\n",
       "0  10-1-08  3.997143  4.012857  3.835357  3.897143   3.327504  1296484000   \n",
       "1  10-2-08  3.857500  3.885357  3.571429  3.575000   3.052449  1609364400   \n",
       "2  10-3-08  3.714286  3.803571  3.380357  3.466786   2.960052  2294398400   \n",
       "\n",
       "       Mean    Actual  \n",
       "0  3.924107  3.728393  \n",
       "1  3.728393  3.591964  \n",
       "2  3.591964  3.327143  "
      ]
     },
     "execution_count": 39,
     "metadata": {},
     "output_type": "execute_result"
    }
   ],
   "source": [
    "steps=-1\n",
    "dataset_for_prediction= dataset.copy()\n",
    "dataset_for_prediction['Actual']=dataset_for_prediction['Mean'].shift(steps)\n",
    "dataset_for_prediction.head(3)"
   ]
  },
  {
   "cell_type": "code",
   "execution_count": 40,
   "id": "202ae84e",
   "metadata": {},
   "outputs": [],
   "source": [
    "dataset_for_prediction=dataset_for_prediction.dropna()"
   ]
  },
  {
   "cell_type": "code",
   "execution_count": 41,
   "id": "c26c90cc",
   "metadata": {},
   "outputs": [],
   "source": [
    "dataset_for_prediction['Date'] =pd.to_datetime(dataset_for_prediction['Date'])\n",
    "dataset_for_prediction.index= dataset_for_prediction['Date']"
   ]
  },
  {
   "cell_type": "code",
   "execution_count": 42,
   "id": "d0f383bc",
   "metadata": {},
   "outputs": [
    {
     "data": {
      "text/plain": [
       "Text(0.5, 1.0, ' Apple Opening Stock Value')"
      ]
     },
     "execution_count": 42,
     "metadata": {},
     "output_type": "execute_result"
    },
    {
     "data": {
      "image/png": "[encoded data removed]",
      "text/plain": [
       "<Figure size 1080x144 with 1 Axes>"
      ]
     },
     "metadata": {
      "needs_background": "light"
     },
     "output_type": "display_data"
    }
   ],
   "source": [
    "dataset_for_prediction['Mean'].plot(color='green', figsize=(15,2))\n",
    "plt.legend(['Next day value', 'Mean'])\n",
    "plt.title(\" Apple Opening Stock Value\")"
   ]
  },
  {
   "cell_type": "code",
   "execution_count": 43,
   "id": "564d632e",
   "metadata": {},
   "outputs": [
    {
     "data": {
      "text/plain": [
       "Text(0.5, 1.0, 'Apple Stock Volume')"
      ]
     },
     "execution_count": 43,
     "metadata": {},
     "output_type": "execute_result"
    },
    {
     "data": {
      "image/png": "[encoded data removed]",
      "text/plain": [
       "<Figure size 1080x144 with 1 Axes>"
      ]
     },
     "metadata": {
      "needs_background": "light"
     },
     "output_type": "display_data"
    }
   ],
   "source": [
    "dataset_for_prediction['Volume'].plot(color='blue', figsize=(15,2))\n",
    "plt.title(\"Apple Stock Volume\")"
   ]
  },
  {
   "cell_type": "code",
   "execution_count": 44,
   "id": "ed87e96b",
   "metadata": {},
   "outputs": [],
   "source": [
    "from sklearn.preprocessing import MinMaxScaler\n",
    "sc_in = MinMaxScaler(feature_range=(0, 1))\n",
    "scaled_input = sc_in.fit_transform(dataset_for_prediction[['Low', 'High','Open', 'Close', 'Volume', 'Adj Close', 'Mean']])\n",
    "scaled_input =pd.DataFrame(scaled_input)\n",
    "X= scaled_input"
   ]
  },
  {
   "cell_type": "code",
   "execution_count": 45,
   "id": "21101e9a",
   "metadata": {},
   "outputs": [],
   "source": [
    "sc_out = MinMaxScaler(feature_range=(0, 1))\n",
    "scaler_output = sc_out.fit_transform(dataset_for_prediction[['Actual']])\n",
    "scaler_output =pd.DataFrame(scaler_output)\n",
    "y=scaler_output"
   ]
  },
  {
   "cell_type": "code",
   "execution_count": 46,
   "id": "195fd630",
   "metadata": {},
   "outputs": [
    {
     "data": {
      "text/html": [
       "<div>\n",
       "<style scoped>\n",
       "    .dataframe tbody tr th:only-of-type {\n",
       "        vertical-align: middle;\n",
       "    }\n",
       "\n",
       "    .dataframe tbody tr th {\n",
       "        vertical-align: top;\n",
       "    }\n",
       "\n",
       "    .dataframe thead th {\n",
       "        text-align: right;\n",
       "    }\n",
       "</style>\n",
       "<table border=\"1\" class=\"dataframe\">\n",
       "  <thead>\n",
       "    <tr style=\"text-align: right;\">\n",
       "      <th></th>\n",
       "      <th>Low</th>\n",
       "      <th>High</th>\n",
       "      <th>Open</th>\n",
       "      <th>Close</th>\n",
       "      <th>Volume</th>\n",
       "      <th>Adj Close</th>\n",
       "      <th>Mean</th>\n",
       "    </tr>\n",
       "  </thead>\n",
       "  <tbody>\n",
       "    <tr>\n",
       "      <th>0</th>\n",
       "      <td>0.019075</td>\n",
       "      <td>0.019558</td>\n",
       "      <td>0.021177</td>\n",
       "      <td>0.019996</td>\n",
       "      <td>0.556275</td>\n",
       "      <td>0.01762</td>\n",
       "      <td>0.019318</td>\n",
       "    </tr>\n",
       "    <tr>\n",
       "      <th>1</th>\n",
       "      <td>0.014246</td>\n",
       "      <td>0.017258</td>\n",
       "      <td>0.018632</td>\n",
       "      <td>0.014163</td>\n",
       "      <td>0.695398</td>\n",
       "      <td>0.01248</td>\n",
       "      <td>0.015763</td>\n",
       "    </tr>\n",
       "  </tbody>\n",
       "</table>\n",
       "</div>"
      ],
      "text/plain": [
       "        Low      High      Open     Close    Volume  Adj Close      Mean\n",
       "0  0.019075  0.019558  0.021177  0.019996  0.556275    0.01762  0.019318\n",
       "1  0.014246  0.017258  0.018632  0.014163  0.695398    0.01248  0.015763"
      ]
     },
     "execution_count": 46,
     "metadata": {},
     "output_type": "execute_result"
    }
   ],
   "source": [
    "X.rename(columns={0:'Low', 1:'High', 2:'Open', 3:'Close', 4:'Volume', 5:'Adj Close', 6:'Mean'}, inplace=True)\n",
    "X.head(2)"
   ]
  },
  {
   "cell_type": "code",
   "execution_count": 47,
   "id": "cb6d2be1",
   "metadata": {},
   "outputs": [
    {
     "data": {
      "text/html": [
       "<div>\n",
       "<style scoped>\n",
       "    .dataframe tbody tr th:only-of-type {\n",
       "        vertical-align: middle;\n",
       "    }\n",
       "\n",
       "    .dataframe tbody tr th {\n",
       "        vertical-align: top;\n",
       "    }\n",
       "\n",
       "    .dataframe thead th {\n",
       "        text-align: right;\n",
       "    }\n",
       "</style>\n",
       "<table border=\"1\" class=\"dataframe\">\n",
       "  <thead>\n",
       "    <tr style=\"text-align: right;\">\n",
       "      <th></th>\n",
       "      <th>Stock Price next day</th>\n",
       "    </tr>\n",
       "    <tr>\n",
       "      <th>Date</th>\n",
       "      <th></th>\n",
       "    </tr>\n",
       "  </thead>\n",
       "  <tbody>\n",
       "    <tr>\n",
       "      <th>2008-10-01</th>\n",
       "      <td>0.015763</td>\n",
       "    </tr>\n",
       "    <tr>\n",
       "      <th>2008-10-02</th>\n",
       "      <td>0.013284</td>\n",
       "    </tr>\n",
       "  </tbody>\n",
       "</table>\n",
       "</div>"
      ],
      "text/plain": [
       "            Stock Price next day\n",
       "Date                            \n",
       "2008-10-01              0.015763\n",
       "2008-10-02              0.013284"
      ]
     },
     "execution_count": 47,
     "metadata": {},
     "output_type": "execute_result"
    }
   ],
   "source": [
    "y.rename(columns={0:'Stock Price next day'}, inplace= True)\n",
    "y.index=dataset_for_prediction.index\n",
    "y.head(2)"
   ]
  },
  {
   "cell_type": "code",
   "execution_count": 48,
   "id": "71013b4e",
   "metadata": {},
   "outputs": [],
   "source": [
    "train_size=int(len(dataset) *0.7)\n",
    "test_size = int(len(dataset))-train_size\n",
    "train_X, train_y = X[:train_size].dropna(), y[:train_size].dropna()\n",
    "test_X, test_y = X[train_size:].dropna(), y[train_size:].dropna()"
   ]
  },
  {
   "cell_type": "code",
   "execution_count": 49,
   "id": "4780135c",
   "metadata": {},
   "outputs": [
    {
     "data": {
      "image/png": "[encoded data removed]",
      "text/plain": [
       "<Figure size 432x288 with 4 Axes>"
      ]
     },
     "metadata": {
      "needs_background": "light"
     },
     "output_type": "display_data"
    }
   ],
   "source": [
    "import statsmodels.api as sm\n",
    "seas_d=sm.tsa.seasonal_decompose(X['Mean'],model='add',period=365);\n",
    "fig=seas_d.plot()\n",
    "fig.set_figheight(4)\n",
    "plt.show()"
   ]
  },
  {
   "cell_type": "code",
   "execution_count": 51,
   "id": "ec7cbc89",
   "metadata": {},
   "outputs": [],
   "source": [
    "from statsmodels.tsa.stattools import adfuller\n",
    "def test_adf(series, title=''):\n",
    "    dfout={}\n",
    "    dftest=sm.tsa.adfuller(series.dropna(), autolag='AIC', regression='ct')\n",
    "    for key,val in dftest[4].items():\n",
    "        dfout[f'critical value ({key})']=val\n",
    "    if dftest[1]<=0.05:\n",
    "        print(\"Strong evidence against Null Hypothesis\")\n",
    "        print(\"Reject Null Hypothesis - Data is Stationary\")\n",
    "        print(\"Data is Stationary\", title)\n",
    "    else:\n",
    "        print(\"Strong evidence for  Null Hypothesis\")\n",
    "        print(\"Accept Null Hypothesis - Data is not Stationary\")\n",
    "        print(\"Data is NOT Stationary for\", title)"
   ]
  },
  {
   "cell_type": "code",
   "execution_count": 53,
   "id": "7ab5bbb7",
   "metadata": {},
   "outputs": [
    {
     "name": "stdout",
     "output_type": "stream",
     "text": [
      "Strong evidence for  Null Hypothesis\n",
      "Accept Null Hypothesis - Data is not Stationary\n",
      "Data is NOT Stationary for  Stock Price\n"
     ]
    }
   ],
   "source": [
    "y_test=y['Stock Price next day'][:train_size].dropna()\n",
    "test_adf(y_test, \" Stock Price\")"
   ]
  },
  {
   "cell_type": "code",
   "execution_count": 54,
   "id": "1df13260",
   "metadata": {},
   "outputs": [
    {
     "name": "stdout",
     "output_type": "stream",
     "text": [
      "Strong evidence against Null Hypothesis\n",
      "Reject Null Hypothesis - Data is Stationary\n",
      "Data is Stationary Stock Price\n"
     ]
    }
   ],
   "source": [
    "test_adf(y_test.diff(), \"Stock Price\")"
   ]
  },
  {
   "cell_type": "code",
   "execution_count": 55,
   "id": "83be7a7f",
   "metadata": {},
   "outputs": [
    {
     "name": "stderr",
     "output_type": "stream",
     "text": [
      "C:\\Users\\91783\\anaconda3\\lib\\site-packages\\statsmodels\\graphics\\tsaplots.py:348: FutureWarning: The default method 'yw' can produce PACF values outside of the [-1,1] interval. After 0.13, the default will change tounadjusted Yule-Walker ('ywm'). You can use this method now by setting method='ywm'.\n",
      "  warnings.warn(\n"
     ]
    },
    {
     "data": {
      "image/png": "[encoded data removed]",
      "text/plain": [
       "<Figure size 720x360 with 2 Axes>"
      ]
     },
     "metadata": {
      "needs_background": "light"
     },
     "output_type": "display_data"
    }
   ],
   "source": [
    "fig,ax= plt.subplots(2,1, figsize=(10,5))\n",
    "fig=sm.tsa.graphics.plot_acf(y_test, lags=50, ax=ax[0])\n",
    "fig=sm.tsa.graphics.plot_pacf(y_test, lags=50, ax=ax[1])\n",
    "plt.show()"
   ]
  },
  {
   "cell_type": "code",
   "execution_count": 57,
   "id": "56f5f993",
   "metadata": {},
   "outputs": [
    {
     "name": "stdout",
     "output_type": "stream",
     "text": [
      "Performing stepwise search to minimize aic\n",
      " ARIMA(1,1,1)(0,0,0)[0] intercept   : AIC=-15575.832, Time=2.85 sec\n",
      " ARIMA(0,1,0)(0,0,0)[0] intercept   : AIC=-15549.019, Time=0.82 sec\n",
      " ARIMA(1,1,0)(0,0,0)[0] intercept   : AIC=-15593.611, Time=3.98 sec\n",
      " ARIMA(0,1,1)(0,0,0)[0] intercept   : AIC=-15562.790, Time=1.24 sec\n",
      " ARIMA(0,1,0)(0,0,0)[0]             : AIC=-15548.661, Time=1.08 sec\n",
      " ARIMA(2,1,0)(0,0,0)[0] intercept   : AIC=-15594.725, Time=2.99 sec\n",
      " ARIMA(3,1,0)(0,0,0)[0] intercept   : AIC=-15591.995, Time=3.34 sec\n",
      " ARIMA(2,1,1)(0,0,0)[0] intercept   : AIC=-15558.886, Time=1.70 sec\n",
      " ARIMA(3,1,1)(0,0,0)[0] intercept   : AIC=-15557.039, Time=2.28 sec\n",
      " ARIMA(2,1,0)(0,0,0)[0]             : AIC=-15612.064, Time=2.68 sec\n",
      " ARIMA(1,1,0)(0,0,0)[0]             : AIC=-15594.633, Time=2.51 sec\n",
      " ARIMA(3,1,0)(0,0,0)[0]             : AIC=-15591.390, Time=2.96 sec\n",
      " ARIMA(2,1,1)(0,0,0)[0]             : AIC=-15605.762, Time=3.02 sec\n",
      " ARIMA(1,1,1)(0,0,0)[0]             : AIC=-15574.758, Time=2.42 sec\n",
      " ARIMA(3,1,1)(0,0,0)[0]             : AIC=-15621.662, Time=3.24 sec\n",
      " ARIMA(4,1,1)(0,0,0)[0]             : AIC=-15548.280, Time=2.00 sec\n",
      " ARIMA(3,1,2)(0,0,0)[0]             : AIC=-15547.921, Time=0.77 sec\n",
      " ARIMA(2,1,2)(0,0,0)[0]             : AIC=-15550.017, Time=0.73 sec\n",
      " ARIMA(4,1,0)(0,0,0)[0]             : AIC=-15599.074, Time=3.54 sec\n",
      " ARIMA(4,1,2)(0,0,0)[0]             : AIC=-15635.837, Time=4.21 sec\n",
      " ARIMA(5,1,2)(0,0,0)[0]             : AIC=-15663.685, Time=4.49 sec\n",
      " ARIMA(5,1,1)(0,0,0)[0]             : AIC=-15546.442, Time=1.54 sec\n",
      " ARIMA(6,1,2)(0,0,0)[0]             : AIC=-15543.388, Time=1.12 sec\n",
      " ARIMA(5,1,3)(0,0,0)[0]             : AIC=-15532.661, Time=1.38 sec\n",
      " ARIMA(4,1,3)(0,0,0)[0]             : AIC=-15534.663, Time=1.47 sec\n",
      " ARIMA(6,1,1)(0,0,0)[0]             : AIC=-15545.333, Time=1.01 sec\n",
      " ARIMA(6,1,3)(0,0,0)[0]             : AIC=-15530.661, Time=1.53 sec\n",
      " ARIMA(5,1,2)(0,0,0)[0] intercept   : AIC=-15641.967, Time=3.91 sec\n",
      "\n",
      "Best model:  ARIMA(5,1,2)(0,0,0)[0]          \n",
      "Total fit time: 64.909 seconds\n"
     ]
    }
   ],
   "source": [
    "from pmdarima.arima import auto_arima\n",
    "step_wise=auto_arima(train_y, \n",
    " exogenous= train_X,\n",
    " start_p=1, start_q=1, \n",
    " max_p=7, max_q=7, \n",
    " d=1, max_d=7,\n",
    " trace=True, \n",
    " error_action='ignore', \n",
    " suppress_warnings=True, \n",
    " stepwise=True)"
   ]
  },
  {
   "cell_type": "code",
   "execution_count": 62,
   "id": "f06eabd7",
   "metadata": {},
   "outputs": [
    {
     "data": {
      "text/html": [
       "<table class=\"simpletable\">\n",
       "<caption>SARIMAX Results</caption>\n",
       "<tr>\n",
       "  <th>Dep. Variable:</th>           <td>y</td>        <th>  No. Observations:  </th>    <td>1936</td>   \n",
       "</tr>\n",
       "<tr>\n",
       "  <th>Model:</th>           <td>SARIMAX(5, 1, 2)</td> <th>  Log Likelihood     </th>  <td>7846.843</td> \n",
       "</tr>\n",
       "<tr>\n",
       "  <th>Date:</th>            <td>Sat, 27 Aug 2022</td> <th>  AIC                </th> <td>-15663.685</td>\n",
       "</tr>\n",
       "<tr>\n",
       "  <th>Time:</th>                <td>14:48:45</td>     <th>  BIC                </th> <td>-15580.167</td>\n",
       "</tr>\n",
       "<tr>\n",
       "  <th>Sample:</th>                  <td>0</td>        <th>  HQIC               </th> <td>-15632.968</td>\n",
       "</tr>\n",
       "<tr>\n",
       "  <th></th>                      <td> - 1936</td>     <th>                     </th>      <td> </td>    \n",
       "</tr>\n",
       "<tr>\n",
       "  <th>Covariance Type:</th>        <td>opg</td>       <th>                     </th>      <td> </td>    \n",
       "</tr>\n",
       "</table>\n",
       "<table class=\"simpletable\">\n",
       "<tr>\n",
       "      <td></td>         <th>coef</th>     <th>std err</th>      <th>z</th>      <th>P>|z|</th>  <th>[0.025</th>    <th>0.975]</th>  \n",
       "</tr>\n",
       "<tr>\n",
       "  <th>Low</th>       <td>    0.0333</td> <td>    0.029</td> <td>    1.134</td> <td> 0.257</td> <td>   -0.024</td> <td>    0.091</td>\n",
       "</tr>\n",
       "<tr>\n",
       "  <th>High</th>      <td>   -0.0121</td> <td>    0.029</td> <td>   -0.411</td> <td> 0.681</td> <td>   -0.070</td> <td>    0.046</td>\n",
       "</tr>\n",
       "<tr>\n",
       "  <th>Open</th>      <td>   -0.0781</td> <td>    0.033</td> <td>   -2.388</td> <td> 0.017</td> <td>   -0.142</td> <td>   -0.014</td>\n",
       "</tr>\n",
       "<tr>\n",
       "  <th>Close</th>     <td>    0.8645</td> <td>    0.233</td> <td>    3.714</td> <td> 0.000</td> <td>    0.408</td> <td>    1.321</td>\n",
       "</tr>\n",
       "<tr>\n",
       "  <th>Volume</th>    <td>    0.0017</td> <td>    0.001</td> <td>    1.133</td> <td> 0.257</td> <td>   -0.001</td> <td>    0.005</td>\n",
       "</tr>\n",
       "<tr>\n",
       "  <th>Adj Close</th> <td>   -0.0132</td> <td>    0.244</td> <td>   -0.054</td> <td> 0.957</td> <td>   -0.492</td> <td>    0.466</td>\n",
       "</tr>\n",
       "<tr>\n",
       "  <th>Mean</th>      <td>    0.0105</td> <td>    0.022</td> <td>    0.465</td> <td> 0.642</td> <td>   -0.034</td> <td>    0.055</td>\n",
       "</tr>\n",
       "<tr>\n",
       "  <th>ar.L1</th>     <td>   -0.4041</td> <td>    0.463</td> <td>   -0.873</td> <td> 0.383</td> <td>   -1.312</td> <td>    0.503</td>\n",
       "</tr>\n",
       "<tr>\n",
       "  <th>ar.L2</th>     <td>   -0.2046</td> <td>    0.089</td> <td>   -2.298</td> <td> 0.022</td> <td>   -0.379</td> <td>   -0.030</td>\n",
       "</tr>\n",
       "<tr>\n",
       "  <th>ar.L3</th>     <td>   -0.1338</td> <td>    0.073</td> <td>   -1.829</td> <td> 0.067</td> <td>   -0.277</td> <td>    0.010</td>\n",
       "</tr>\n",
       "<tr>\n",
       "  <th>ar.L4</th>     <td>   -0.0808</td> <td>    0.049</td> <td>   -1.651</td> <td> 0.099</td> <td>   -0.177</td> <td>    0.015</td>\n",
       "</tr>\n",
       "<tr>\n",
       "  <th>ar.L5</th>     <td>   -0.0575</td> <td>    0.029</td> <td>   -1.975</td> <td> 0.048</td> <td>   -0.115</td> <td>   -0.000</td>\n",
       "</tr>\n",
       "<tr>\n",
       "  <th>ma.L1</th>     <td>   -0.3264</td> <td>    0.462</td> <td>   -0.707</td> <td> 0.480</td> <td>   -1.232</td> <td>    0.579</td>\n",
       "</tr>\n",
       "<tr>\n",
       "  <th>ma.L2</th>     <td>   -0.1433</td> <td>    0.335</td> <td>   -0.427</td> <td> 0.669</td> <td>   -0.801</td> <td>    0.514</td>\n",
       "</tr>\n",
       "<tr>\n",
       "  <th>sigma2</th>    <td> 1.755e-05</td> <td> 2.19e-07</td> <td>   79.995</td> <td> 0.000</td> <td> 1.71e-05</td> <td>  1.8e-05</td>\n",
       "</tr>\n",
       "</table>\n",
       "<table class=\"simpletable\">\n",
       "<tr>\n",
       "  <th>Ljung-Box (L1) (Q):</th>     <td>0.16</td> <th>  Jarque-Bera (JB):  </th> <td>17375.08</td>\n",
       "</tr>\n",
       "<tr>\n",
       "  <th>Prob(Q):</th>                <td>0.69</td> <th>  Prob(JB):          </th>   <td>0.00</td>  \n",
       "</tr>\n",
       "<tr>\n",
       "  <th>Heteroskedasticity (H):</th> <td>7.39</td> <th>  Skew:              </th>   <td>-0.49</td> \n",
       "</tr>\n",
       "<tr>\n",
       "  <th>Prob(H) (two-sided):</th>    <td>0.00</td> <th>  Kurtosis:          </th>   <td>17.65</td> \n",
       "</tr>\n",
       "</table><br/><br/>Warnings:<br/>[1] Covariance matrix calculated using the outer product of gradients (complex-step).<br/>[2] Covariance matrix is singular or near-singular, with condition number 8.19e+17. Standard errors may be unstable."
      ],
      "text/plain": [
       "<class 'statsmodels.iolib.summary.Summary'>\n",
       "\"\"\"\n",
       "                               SARIMAX Results                                \n",
       "==============================================================================\n",
       "Dep. Variable:                      y   No. Observations:                 1936\n",
       "Model:               SARIMAX(5, 1, 2)   Log Likelihood                7846.843\n",
       "Date:                Sat, 27 Aug 2022   AIC                         -15663.685\n",
       "Time:                        14:48:45   BIC                         -15580.167\n",
       "Sample:                             0   HQIC                        -15632.968\n",
       "                               - 1936                                         \n",
       "Covariance Type:                  opg                                         \n",
       "==============================================================================\n",
       "                 coef    std err          z      P>|z|      [0.025      0.975]\n",
       "------------------------------------------------------------------------------\n",
       "Low            0.0333      0.029      1.134      0.257      -0.024       0.091\n",
       "High          -0.0121      0.029     -0.411      0.681      -0.070       0.046\n",
       "Open          -0.0781      0.033     -2.388      0.017      -0.142      -0.014\n",
       "Close          0.8645      0.233      3.714      0.000       0.408       1.321\n",
       "Volume         0.0017      0.001      1.133      0.257      -0.001       0.005\n",
       "Adj Close     -0.0132      0.244     -0.054      0.957      -0.492       0.466\n",
       "Mean           0.0105      0.022      0.465      0.642      -0.034       0.055\n",
       "ar.L1         -0.4041      0.463     -0.873      0.383      -1.312       0.503\n",
       "ar.L2         -0.2046      0.089     -2.298      0.022      -0.379      -0.030\n",
       "ar.L3         -0.1338      0.073     -1.829      0.067      -0.277       0.010\n",
       "ar.L4         -0.0808      0.049     -1.651      0.099      -0.177       0.015\n",
       "ar.L5         -0.0575      0.029     -1.975      0.048      -0.115      -0.000\n",
       "ma.L1         -0.3264      0.462     -0.707      0.480      -1.232       0.579\n",
       "ma.L2         -0.1433      0.335     -0.427      0.669      -0.801       0.514\n",
       "sigma2      1.755e-05   2.19e-07     79.995      0.000    1.71e-05     1.8e-05\n",
       "===================================================================================\n",
       "Ljung-Box (L1) (Q):                   0.16   Jarque-Bera (JB):             17375.08\n",
       "Prob(Q):                              0.69   Prob(JB):                         0.00\n",
       "Heteroskedasticity (H):               7.39   Skew:                            -0.49\n",
       "Prob(H) (two-sided):                  0.00   Kurtosis:                        17.65\n",
       "===================================================================================\n",
       "\n",
       "Warnings:\n",
       "[1] Covariance matrix calculated using the outer product of gradients (complex-step).\n",
       "[2] Covariance matrix is singular or near-singular, with condition number 8.19e+17. Standard errors may be unstable.\n",
       "\"\"\""
      ]
     },
     "execution_count": 62,
     "metadata": {},
     "output_type": "execute_result"
    }
   ],
   "source": [
    "step_wise.summary()"
   ]
  },
  {
   "cell_type": "code",
   "execution_count": 64,
   "id": "5ca7194c",
   "metadata": {},
   "outputs": [
    {
     "name": "stderr",
     "output_type": "stream",
     "text": [
      "C:\\Users\\91783\\anaconda3\\lib\\site-packages\\statsmodels\\tsa\\base\\tsa_model.py:471: ValueWarning: A date index has been provided, but it has no associated frequency information and so will be ignored when e.g. forecasting.\n",
      "  self._init_dates(dates, freq)\n",
      "C:\\Users\\91783\\anaconda3\\lib\\site-packages\\statsmodels\\tsa\\base\\tsa_model.py:471: ValueWarning: A date index has been provided, but it has no associated frequency information and so will be ignored when e.g. forecasting.\n",
      "  self._init_dates(dates, freq)\n"
     ]
    }
   ],
   "source": [
    "from statsmodels.tsa.statespace.sarimax import SARIMAX\n",
    "model=sm.tsa.statespace.SARIMAX(train_y,order=(0, 1, 1),seasonal_order=(0,1,1,12))\n",
    "#model= SARIMAX(train_y, exog=train_X,order=(0,1,1), enforce_invertibility=False, enforce_stationarity=False)"
   ]
  },
  {
   "cell_type": "code",
   "execution_count": 65,
   "id": "a8dce676",
   "metadata": {},
   "outputs": [],
   "source": [
    "results= model.fit()"
   ]
  },
  {
   "cell_type": "code",
   "execution_count": 66,
   "id": "f8bdb174",
   "metadata": {},
   "outputs": [
    {
     "name": "stderr",
     "output_type": "stream",
     "text": [
      "C:\\Users\\91783\\anaconda3\\lib\\site-packages\\statsmodels\\tsa\\base\\tsa_model.py:834: ValueWarning: No supported index is available. Prediction results will be given with an integer index beginning at `start`.\n",
      "  return get_prediction_index(\n"
     ]
    }
   ],
   "source": [
    "predictions= results.predict(start =train_size, end=train_size+test_size+(steps)-1,exog=test_X)"
   ]
  },
  {
   "cell_type": "code",
   "execution_count": 67,
   "id": "4d2d6d3d",
   "metadata": {},
   "outputs": [
    {
     "name": "stderr",
     "output_type": "stream",
     "text": [
      "C:\\Users\\91783\\anaconda3\\lib\\site-packages\\statsmodels\\tsa\\base\\tsa_model.py:834: ValueWarning: No supported index is available. Prediction results will be given with an integer index beginning at `start`.\n",
      "  return get_prediction_index(\n"
     ]
    }
   ],
   "source": [
    "forecast_1= results.forecast(steps=test_size-1, exog=test_X)"
   ]
  },
  {
   "cell_type": "code",
   "execution_count": 68,
   "id": "a2eb2760",
   "metadata": {},
   "outputs": [],
   "source": [
    "act= pd.DataFrame(scaler_output.iloc[train_size:, 0])"
   ]
  },
  {
   "cell_type": "code",
   "execution_count": 72,
   "id": "8e9a4bd4",
   "metadata": {},
   "outputs": [],
   "source": [
    "predictions=pd.DataFrame(predictions)\n",
    "predictions.reset_index(drop=True, inplace=True)\n",
    "predictions.index=test_X.index\n",
    "predictions['Actual'] = act['Stock Price next day']\n",
    "predictions.rename(columns={0:'Pred'}, inplace=True)"
   ]
  },
  {
   "cell_type": "code",
   "execution_count": 75,
   "id": "e3bee5af",
   "metadata": {},
   "outputs": [
    {
     "data": {
      "text/html": [
       "<div>\n",
       "<style scoped>\n",
       "    .dataframe tbody tr th:only-of-type {\n",
       "        vertical-align: middle;\n",
       "    }\n",
       "\n",
       "    .dataframe tbody tr th {\n",
       "        vertical-align: top;\n",
       "    }\n",
       "\n",
       "    .dataframe thead th {\n",
       "        text-align: right;\n",
       "    }\n",
       "</style>\n",
       "<table border=\"1\" class=\"dataframe\">\n",
       "  <thead>\n",
       "    <tr style=\"text-align: right;\">\n",
       "      <th></th>\n",
       "      <th>Stock Price next day</th>\n",
       "    </tr>\n",
       "    <tr>\n",
       "      <th>Date</th>\n",
       "      <th></th>\n",
       "    </tr>\n",
       "  </thead>\n",
       "  <tbody>\n",
       "    <tr>\n",
       "      <th>2016-06-10</th>\n",
       "      <td>0.393616</td>\n",
       "    </tr>\n",
       "    <tr>\n",
       "      <th>2016-06-13</th>\n",
       "      <td>0.391368</td>\n",
       "    </tr>\n",
       "    <tr>\n",
       "      <th>2016-06-14</th>\n",
       "      <td>0.391844</td>\n",
       "    </tr>\n",
       "    <tr>\n",
       "      <th>2016-06-15</th>\n",
       "      <td>0.388166</td>\n",
       "    </tr>\n",
       "    <tr>\n",
       "      <th>2016-06-16</th>\n",
       "      <td>0.383919</td>\n",
       "    </tr>\n",
       "    <tr>\n",
       "      <th>...</th>\n",
       "      <td>...</td>\n",
       "    </tr>\n",
       "    <tr>\n",
       "      <th>2019-09-20</th>\n",
       "      <td>0.941503</td>\n",
       "    </tr>\n",
       "    <tr>\n",
       "      <th>2019-09-23</th>\n",
       "      <td>0.946476</td>\n",
       "    </tr>\n",
       "    <tr>\n",
       "      <th>2019-09-24</th>\n",
       "      <td>0.944114</td>\n",
       "    </tr>\n",
       "    <tr>\n",
       "      <th>2019-09-25</th>\n",
       "      <td>0.946681</td>\n",
       "    </tr>\n",
       "    <tr>\n",
       "      <th>2019-09-26</th>\n",
       "      <td>0.943206</td>\n",
       "    </tr>\n",
       "  </tbody>\n",
       "</table>\n",
       "<p>830 rows × 1 columns</p>\n",
       "</div>"
      ],
      "text/plain": [
       "            Stock Price next day\n",
       "Date                            \n",
       "2016-06-10              0.393616\n",
       "2016-06-13              0.391368\n",
       "2016-06-14              0.391844\n",
       "2016-06-15              0.388166\n",
       "2016-06-16              0.383919\n",
       "...                          ...\n",
       "2019-09-20              0.941503\n",
       "2019-09-23              0.946476\n",
       "2019-09-24              0.944114\n",
       "2019-09-25              0.946681\n",
       "2019-09-26              0.943206\n",
       "\n",
       "[830 rows x 1 columns]"
      ]
     },
     "execution_count": 75,
     "metadata": {},
     "output_type": "execute_result"
    }
   ],
   "source": [
    "act"
   ]
  },
  {
   "cell_type": "code",
   "execution_count": 76,
   "id": "c9277ec0",
   "metadata": {},
   "outputs": [
    {
     "data": {
      "text/html": [
       "<div>\n",
       "<style scoped>\n",
       "    .dataframe tbody tr th:only-of-type {\n",
       "        vertical-align: middle;\n",
       "    }\n",
       "\n",
       "    .dataframe tbody tr th {\n",
       "        vertical-align: top;\n",
       "    }\n",
       "\n",
       "    .dataframe thead th {\n",
       "        text-align: right;\n",
       "    }\n",
       "</style>\n",
       "<table border=\"1\" class=\"dataframe\">\n",
       "  <thead>\n",
       "    <tr style=\"text-align: right;\">\n",
       "      <th></th>\n",
       "      <th>predicted_mean</th>\n",
       "      <th>Actual</th>\n",
       "    </tr>\n",
       "  </thead>\n",
       "  <tbody>\n",
       "    <tr>\n",
       "      <th>1936</th>\n",
       "      <td>0.397241</td>\n",
       "      <td>NaN</td>\n",
       "    </tr>\n",
       "    <tr>\n",
       "      <th>1937</th>\n",
       "      <td>0.396827</td>\n",
       "      <td>NaN</td>\n",
       "    </tr>\n",
       "    <tr>\n",
       "      <th>1938</th>\n",
       "      <td>0.397199</td>\n",
       "      <td>NaN</td>\n",
       "    </tr>\n",
       "    <tr>\n",
       "      <th>1939</th>\n",
       "      <td>0.396392</td>\n",
       "      <td>NaN</td>\n",
       "    </tr>\n",
       "    <tr>\n",
       "      <th>1940</th>\n",
       "      <td>0.391162</td>\n",
       "      <td>NaN</td>\n",
       "    </tr>\n",
       "    <tr>\n",
       "      <th>...</th>\n",
       "      <td>...</td>\n",
       "      <td>...</td>\n",
       "    </tr>\n",
       "    <tr>\n",
       "      <th>2761</th>\n",
       "      <td>0.190601</td>\n",
       "      <td>NaN</td>\n",
       "    </tr>\n",
       "    <tr>\n",
       "      <th>2762</th>\n",
       "      <td>0.191737</td>\n",
       "      <td>NaN</td>\n",
       "    </tr>\n",
       "    <tr>\n",
       "      <th>2763</th>\n",
       "      <td>0.192615</td>\n",
       "      <td>NaN</td>\n",
       "    </tr>\n",
       "    <tr>\n",
       "      <th>2764</th>\n",
       "      <td>0.192928</td>\n",
       "      <td>NaN</td>\n",
       "    </tr>\n",
       "    <tr>\n",
       "      <th>2765</th>\n",
       "      <td>0.192513</td>\n",
       "      <td>NaN</td>\n",
       "    </tr>\n",
       "  </tbody>\n",
       "</table>\n",
       "<p>830 rows × 2 columns</p>\n",
       "</div>"
      ],
      "text/plain": [
       "      predicted_mean  Actual\n",
       "1936        0.397241     NaN\n",
       "1937        0.396827     NaN\n",
       "1938        0.397199     NaN\n",
       "1939        0.396392     NaN\n",
       "1940        0.391162     NaN\n",
       "...              ...     ...\n",
       "2761        0.190601     NaN\n",
       "2762        0.191737     NaN\n",
       "2763        0.192615     NaN\n",
       "2764        0.192928     NaN\n",
       "2765        0.192513     NaN\n",
       "\n",
       "[830 rows x 2 columns]"
      ]
     },
     "execution_count": 76,
     "metadata": {},
     "output_type": "execute_result"
    }
   ],
   "source": [
    "predictions"
   ]
  },
  {
   "cell_type": "code",
   "execution_count": null,
   "id": "7932783f",
   "metadata": {},
   "outputs": [],
   "source": []
  }
 ],
 "metadata": {
  "kernelspec": {
   "display_name": "Python 3 (ipykernel)",
   "language": "python",
   "name": "python3"
  },
  "language_info": {
   "codemirror_mode": {
    "name": "ipython",
    "version": 3
   },
   "file_extension": ".py",
   "mimetype": "text/x-python",
   "name": "python",
   "nbconvert_exporter": "python",
   "pygments_lexer": "ipython3",
   "version": "3.9.12"
  }
 },
 "nbformat": 4,
 "nbformat_minor": 5
}
